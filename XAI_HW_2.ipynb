{
  "cells": [
    {
      "cell_type": "markdown",
      "metadata": {
        "colab_type": "text",
        "id": "view-in-github"
      },
      "source": [
        "<a href=\"https://colab.research.google.com/github/johncoogan53/XAI_HW2/blob/main/XAI_HW_2.ipynb\" target=\"_parent\"><img src=\"https://colab.research.google.com/assets/colab-badge.svg\" alt=\"Open In Colab\"/></a>"
      ]
    },
    {
      "cell_type": "markdown",
      "metadata": {
        "id": "lZPVJMwL5CRB"
      },
      "source": [
        "# AIPI 590 - XAI | Assignment 02\n",
        "\n",
        "Description:\n",
        "\n",
        "John Coogan"
      ]
    },
    {
      "cell_type": "markdown",
      "metadata": {},
      "source": [
        "### Data Import\n",
        "\n",
        "The data is from a Kaggle competition involving Telco customer churn data: https://www.kaggle.com/datasets/blastchar/telco-customer-churn?resource=download"
      ]
    },
    {
      "cell_type": "code",
      "execution_count": 38,
      "metadata": {
        "id": "hD7jsg9m424F"
      },
      "outputs": [],
      "source": [
        "import pandas as pd\n",
        "import numpy as np"
      ]
    },
    {
      "cell_type": "code",
      "execution_count": 2,
      "metadata": {},
      "outputs": [],
      "source": [
        "data = pd.read_csv(\"WA_Fn-UseC_-Telco-Customer-Churn.csv\")"
      ]
    },
    {
      "cell_type": "code",
      "execution_count": 3,
      "metadata": {},
      "outputs": [
        {
          "data": {
            "text/html": [
              "<div>\n",
              "<style scoped>\n",
              "    .dataframe tbody tr th:only-of-type {\n",
              "        vertical-align: middle;\n",
              "    }\n",
              "\n",
              "    .dataframe tbody tr th {\n",
              "        vertical-align: top;\n",
              "    }\n",
              "\n",
              "    .dataframe thead th {\n",
              "        text-align: right;\n",
              "    }\n",
              "</style>\n",
              "<table border=\"1\" class=\"dataframe\">\n",
              "  <thead>\n",
              "    <tr style=\"text-align: right;\">\n",
              "      <th></th>\n",
              "      <th>customerID</th>\n",
              "      <th>gender</th>\n",
              "      <th>SeniorCitizen</th>\n",
              "      <th>Partner</th>\n",
              "      <th>Dependents</th>\n",
              "      <th>tenure</th>\n",
              "      <th>PhoneService</th>\n",
              "      <th>MultipleLines</th>\n",
              "      <th>InternetService</th>\n",
              "      <th>OnlineSecurity</th>\n",
              "      <th>...</th>\n",
              "      <th>DeviceProtection</th>\n",
              "      <th>TechSupport</th>\n",
              "      <th>StreamingTV</th>\n",
              "      <th>StreamingMovies</th>\n",
              "      <th>Contract</th>\n",
              "      <th>PaperlessBilling</th>\n",
              "      <th>PaymentMethod</th>\n",
              "      <th>MonthlyCharges</th>\n",
              "      <th>TotalCharges</th>\n",
              "      <th>Churn</th>\n",
              "    </tr>\n",
              "  </thead>\n",
              "  <tbody>\n",
              "    <tr>\n",
              "      <th>0</th>\n",
              "      <td>7590-VHVEG</td>\n",
              "      <td>Female</td>\n",
              "      <td>0</td>\n",
              "      <td>Yes</td>\n",
              "      <td>No</td>\n",
              "      <td>1</td>\n",
              "      <td>No</td>\n",
              "      <td>No phone service</td>\n",
              "      <td>DSL</td>\n",
              "      <td>No</td>\n",
              "      <td>...</td>\n",
              "      <td>No</td>\n",
              "      <td>No</td>\n",
              "      <td>No</td>\n",
              "      <td>No</td>\n",
              "      <td>Month-to-month</td>\n",
              "      <td>Yes</td>\n",
              "      <td>Electronic check</td>\n",
              "      <td>29.85</td>\n",
              "      <td>29.85</td>\n",
              "      <td>No</td>\n",
              "    </tr>\n",
              "    <tr>\n",
              "      <th>1</th>\n",
              "      <td>5575-GNVDE</td>\n",
              "      <td>Male</td>\n",
              "      <td>0</td>\n",
              "      <td>No</td>\n",
              "      <td>No</td>\n",
              "      <td>34</td>\n",
              "      <td>Yes</td>\n",
              "      <td>No</td>\n",
              "      <td>DSL</td>\n",
              "      <td>Yes</td>\n",
              "      <td>...</td>\n",
              "      <td>Yes</td>\n",
              "      <td>No</td>\n",
              "      <td>No</td>\n",
              "      <td>No</td>\n",
              "      <td>One year</td>\n",
              "      <td>No</td>\n",
              "      <td>Mailed check</td>\n",
              "      <td>56.95</td>\n",
              "      <td>1889.5</td>\n",
              "      <td>No</td>\n",
              "    </tr>\n",
              "    <tr>\n",
              "      <th>2</th>\n",
              "      <td>3668-QPYBK</td>\n",
              "      <td>Male</td>\n",
              "      <td>0</td>\n",
              "      <td>No</td>\n",
              "      <td>No</td>\n",
              "      <td>2</td>\n",
              "      <td>Yes</td>\n",
              "      <td>No</td>\n",
              "      <td>DSL</td>\n",
              "      <td>Yes</td>\n",
              "      <td>...</td>\n",
              "      <td>No</td>\n",
              "      <td>No</td>\n",
              "      <td>No</td>\n",
              "      <td>No</td>\n",
              "      <td>Month-to-month</td>\n",
              "      <td>Yes</td>\n",
              "      <td>Mailed check</td>\n",
              "      <td>53.85</td>\n",
              "      <td>108.15</td>\n",
              "      <td>Yes</td>\n",
              "    </tr>\n",
              "    <tr>\n",
              "      <th>3</th>\n",
              "      <td>7795-CFOCW</td>\n",
              "      <td>Male</td>\n",
              "      <td>0</td>\n",
              "      <td>No</td>\n",
              "      <td>No</td>\n",
              "      <td>45</td>\n",
              "      <td>No</td>\n",
              "      <td>No phone service</td>\n",
              "      <td>DSL</td>\n",
              "      <td>Yes</td>\n",
              "      <td>...</td>\n",
              "      <td>Yes</td>\n",
              "      <td>Yes</td>\n",
              "      <td>No</td>\n",
              "      <td>No</td>\n",
              "      <td>One year</td>\n",
              "      <td>No</td>\n",
              "      <td>Bank transfer (automatic)</td>\n",
              "      <td>42.30</td>\n",
              "      <td>1840.75</td>\n",
              "      <td>No</td>\n",
              "    </tr>\n",
              "    <tr>\n",
              "      <th>4</th>\n",
              "      <td>9237-HQITU</td>\n",
              "      <td>Female</td>\n",
              "      <td>0</td>\n",
              "      <td>No</td>\n",
              "      <td>No</td>\n",
              "      <td>2</td>\n",
              "      <td>Yes</td>\n",
              "      <td>No</td>\n",
              "      <td>Fiber optic</td>\n",
              "      <td>No</td>\n",
              "      <td>...</td>\n",
              "      <td>No</td>\n",
              "      <td>No</td>\n",
              "      <td>No</td>\n",
              "      <td>No</td>\n",
              "      <td>Month-to-month</td>\n",
              "      <td>Yes</td>\n",
              "      <td>Electronic check</td>\n",
              "      <td>70.70</td>\n",
              "      <td>151.65</td>\n",
              "      <td>Yes</td>\n",
              "    </tr>\n",
              "  </tbody>\n",
              "</table>\n",
              "<p>5 rows × 21 columns</p>\n",
              "</div>"
            ],
            "text/plain": [
              "   customerID  gender  SeniorCitizen Partner Dependents  tenure PhoneService  \\\n",
              "0  7590-VHVEG  Female              0     Yes         No       1           No   \n",
              "1  5575-GNVDE    Male              0      No         No      34          Yes   \n",
              "2  3668-QPYBK    Male              0      No         No       2          Yes   \n",
              "3  7795-CFOCW    Male              0      No         No      45           No   \n",
              "4  9237-HQITU  Female              0      No         No       2          Yes   \n",
              "\n",
              "      MultipleLines InternetService OnlineSecurity  ... DeviceProtection  \\\n",
              "0  No phone service             DSL             No  ...               No   \n",
              "1                No             DSL            Yes  ...              Yes   \n",
              "2                No             DSL            Yes  ...               No   \n",
              "3  No phone service             DSL            Yes  ...              Yes   \n",
              "4                No     Fiber optic             No  ...               No   \n",
              "\n",
              "  TechSupport StreamingTV StreamingMovies        Contract PaperlessBilling  \\\n",
              "0          No          No              No  Month-to-month              Yes   \n",
              "1          No          No              No        One year               No   \n",
              "2          No          No              No  Month-to-month              Yes   \n",
              "3         Yes          No              No        One year               No   \n",
              "4          No          No              No  Month-to-month              Yes   \n",
              "\n",
              "               PaymentMethod MonthlyCharges  TotalCharges Churn  \n",
              "0           Electronic check          29.85         29.85    No  \n",
              "1               Mailed check          56.95        1889.5    No  \n",
              "2               Mailed check          53.85        108.15   Yes  \n",
              "3  Bank transfer (automatic)          42.30       1840.75    No  \n",
              "4           Electronic check          70.70        151.65   Yes  \n",
              "\n",
              "[5 rows x 21 columns]"
            ]
          },
          "execution_count": 3,
          "metadata": {},
          "output_type": "execute_result"
        }
      ],
      "source": [
        "data.head()"
      ]
    },
    {
      "cell_type": "markdown",
      "metadata": {},
      "source": [
        "### Check for cleanliness"
      ]
    },
    {
      "cell_type": "code",
      "execution_count": 4,
      "metadata": {},
      "outputs": [
        {
          "data": {
            "text/html": [
              "<div>\n",
              "<style scoped>\n",
              "    .dataframe tbody tr th:only-of-type {\n",
              "        vertical-align: middle;\n",
              "    }\n",
              "\n",
              "    .dataframe tbody tr th {\n",
              "        vertical-align: top;\n",
              "    }\n",
              "\n",
              "    .dataframe thead th {\n",
              "        text-align: right;\n",
              "    }\n",
              "</style>\n",
              "<table border=\"1\" class=\"dataframe\">\n",
              "  <thead>\n",
              "    <tr style=\"text-align: right;\">\n",
              "      <th></th>\n",
              "      <th>SeniorCitizen</th>\n",
              "      <th>tenure</th>\n",
              "      <th>MonthlyCharges</th>\n",
              "    </tr>\n",
              "  </thead>\n",
              "  <tbody>\n",
              "    <tr>\n",
              "      <th>count</th>\n",
              "      <td>7043.000000</td>\n",
              "      <td>7043.000000</td>\n",
              "      <td>7043.000000</td>\n",
              "    </tr>\n",
              "    <tr>\n",
              "      <th>mean</th>\n",
              "      <td>0.162147</td>\n",
              "      <td>32.371149</td>\n",
              "      <td>64.761692</td>\n",
              "    </tr>\n",
              "    <tr>\n",
              "      <th>std</th>\n",
              "      <td>0.368612</td>\n",
              "      <td>24.559481</td>\n",
              "      <td>30.090047</td>\n",
              "    </tr>\n",
              "    <tr>\n",
              "      <th>min</th>\n",
              "      <td>0.000000</td>\n",
              "      <td>0.000000</td>\n",
              "      <td>18.250000</td>\n",
              "    </tr>\n",
              "    <tr>\n",
              "      <th>25%</th>\n",
              "      <td>0.000000</td>\n",
              "      <td>9.000000</td>\n",
              "      <td>35.500000</td>\n",
              "    </tr>\n",
              "    <tr>\n",
              "      <th>50%</th>\n",
              "      <td>0.000000</td>\n",
              "      <td>29.000000</td>\n",
              "      <td>70.350000</td>\n",
              "    </tr>\n",
              "    <tr>\n",
              "      <th>75%</th>\n",
              "      <td>0.000000</td>\n",
              "      <td>55.000000</td>\n",
              "      <td>89.850000</td>\n",
              "    </tr>\n",
              "    <tr>\n",
              "      <th>max</th>\n",
              "      <td>1.000000</td>\n",
              "      <td>72.000000</td>\n",
              "      <td>118.750000</td>\n",
              "    </tr>\n",
              "  </tbody>\n",
              "</table>\n",
              "</div>"
            ],
            "text/plain": [
              "       SeniorCitizen       tenure  MonthlyCharges\n",
              "count    7043.000000  7043.000000     7043.000000\n",
              "mean        0.162147    32.371149       64.761692\n",
              "std         0.368612    24.559481       30.090047\n",
              "min         0.000000     0.000000       18.250000\n",
              "25%         0.000000     9.000000       35.500000\n",
              "50%         0.000000    29.000000       70.350000\n",
              "75%         0.000000    55.000000       89.850000\n",
              "max         1.000000    72.000000      118.750000"
            ]
          },
          "execution_count": 4,
          "metadata": {},
          "output_type": "execute_result"
        }
      ],
      "source": [
        "data.describe()"
      ]
    },
    {
      "cell_type": "code",
      "execution_count": 5,
      "metadata": {},
      "outputs": [
        {
          "name": "stdout",
          "output_type": "stream",
          "text": [
            "<class 'pandas.core.frame.DataFrame'>\n",
            "RangeIndex: 7043 entries, 0 to 7042\n",
            "Data columns (total 21 columns):\n",
            " #   Column            Non-Null Count  Dtype  \n",
            "---  ------            --------------  -----  \n",
            " 0   customerID        7043 non-null   object \n",
            " 1   gender            7043 non-null   object \n",
            " 2   SeniorCitizen     7043 non-null   int64  \n",
            " 3   Partner           7043 non-null   object \n",
            " 4   Dependents        7043 non-null   object \n",
            " 5   tenure            7043 non-null   int64  \n",
            " 6   PhoneService      7043 non-null   object \n",
            " 7   MultipleLines     7043 non-null   object \n",
            " 8   InternetService   7043 non-null   object \n",
            " 9   OnlineSecurity    7043 non-null   object \n",
            " 10  OnlineBackup      7043 non-null   object \n",
            " 11  DeviceProtection  7043 non-null   object \n",
            " 12  TechSupport       7043 non-null   object \n",
            " 13  StreamingTV       7043 non-null   object \n",
            " 14  StreamingMovies   7043 non-null   object \n",
            " 15  Contract          7043 non-null   object \n",
            " 16  PaperlessBilling  7043 non-null   object \n",
            " 17  PaymentMethod     7043 non-null   object \n",
            " 18  MonthlyCharges    7043 non-null   float64\n",
            " 19  TotalCharges      7043 non-null   object \n",
            " 20  Churn             7043 non-null   object \n",
            "dtypes: float64(1), int64(2), object(18)\n",
            "memory usage: 1.1+ MB\n"
          ]
        }
      ],
      "source": [
        "data.info()"
      ]
    },
    {
      "cell_type": "markdown",
      "metadata": {},
      "source": [
        "From info and describe this data appears to be very clean (which is to be expected from a kaggle dataset)\n",
        "\n",
        "We will also ensure every variable is of the same type. This dataset is comprised of mostly categorical variables which are binary with an 'other' third category. There are also a few numeric variables as well."
      ]
    },
    {
      "cell_type": "code",
      "execution_count": 6,
      "metadata": {},
      "outputs": [],
      "source": [
        "# convert TotalCharges to numeric, if fails, set to NaN\n",
        "data[\"TotalCharges\"] = pd.to_numeric(data[\"TotalCharges\"], errors=\"coerce\")\n",
        "data[\"StreamingTV\"].unique()\n",
        "\n",
        "# treating churn as a continuous variable\n",
        "data[\"Churn\"] = pd.to_numeric(\n",
        "    data[\"Churn\"].str.replace(\"Yes\", \"1\").str.replace(\"No\", \"0\")\n",
        ")\n",
        "\n",
        "# Convert gender, SeniorCitizen, Partner, Dependents, PhoneService, MultipleLines, InternetService,\n",
        "# OnlineSecurity, OnlineBackup, DeviceProtection, TechSupport, StreamingTV, StreamingMovies, Contract,\n",
        "# PaperlessBilling, PaymentMethod, Churn to category\n",
        "categorical_columns = [\n",
        "    \"gender\",\n",
        "    \"SeniorCitizen\",\n",
        "    \"Partner\",\n",
        "    \"Dependents\",\n",
        "    \"PhoneService\",\n",
        "    \"MultipleLines\",\n",
        "    \"InternetService\",\n",
        "    \"OnlineSecurity\",\n",
        "    \"OnlineBackup\",\n",
        "    \"DeviceProtection\",\n",
        "    \"TechSupport\",\n",
        "    \"StreamingTV\",\n",
        "    \"StreamingMovies\",\n",
        "    \"Contract\",\n",
        "    \"PaperlessBilling\",\n",
        "    \"PaymentMethod\",\n",
        "]\n",
        "\n",
        "data[categorical_columns] = data[categorical_columns].astype(\"category\")"
      ]
    },
    {
      "cell_type": "markdown",
      "metadata": {},
      "source": [
        "## Linear Regression Modeling"
      ]
    },
    {
      "cell_type": "markdown",
      "metadata": {},
      "source": [
        "In this section we will treat the churn variable as continuous and build a linear model that will help to predict the churn of a customer. We will break this down into sub-sections to make it easier to follow.\n",
        "\n",
        "* 1. Evaluating linear regression assumptions\n",
        "* 2. Building a linear regression model (iterative)\n",
        "* 3. Evaluating the model"
      ]
    },
    {
      "cell_type": "markdown",
      "metadata": {},
      "source": [
        "Assumptions of Linear Regression:\n",
        "\n",
        "1. Linearity: The relationship between the independent and dependent variables is linear.\n",
        "2. Independence: Observations are independent of each other.\n",
        "3. Homoscedasticity: The residuals have constant variance at every level of the independent variables.\n",
        "4. Normality: The residuals are normally distributed.\n",
        "\n",
        "How to evaluate these assumptions:\n",
        "1. Linearity: Use scatter plots to check for linearity.\n",
        "2. Independence: This is assumed to be true for most datasets.\n",
        "3. Homoscedasticity: Use residuals vs. fitted values plot.\n",
        "4. Normality: Use a QQ plot."
      ]
    },
    {
      "cell_type": "markdown",
      "metadata": {},
      "source": [
        "### Linearity"
      ]
    },
    {
      "cell_type": "markdown",
      "metadata": {},
      "source": [
        ">Univariate analysis between our continuous variables and the target variable. Assessing linearity for between our continuous target and categorical variables is not as straightforward so we wills start here."
      ]
    },
    {
      "cell_type": "code",
      "execution_count": 7,
      "metadata": {},
      "outputs": [
        {
          "data": {
            "image/png": "[encoded data removed]",
            "text/plain": [
              "<Figure size 750x250 with 3 Axes>"
            ]
          },
          "metadata": {},
          "output_type": "display_data"
        }
      ],
      "source": [
        "import warnings\n",
        "import seaborn as sns\n",
        "import matplotlib.pyplot as plt\n",
        "\n",
        "# Suppress warnings because they are distracting\n",
        "warnings.filterwarnings(\"ignore\")\n",
        "\n",
        "# Scatter plot for continuous variables\n",
        "sns.pairplot(\n",
        "    data,\n",
        "    x_vars=[\"TotalCharges\", \"MonthlyCharges\", \"tenure\"],\n",
        "    y_vars=\"Churn\",\n",
        "    kind=\"reg\",\n",
        ")\n",
        "\n",
        "plt.show()"
      ]
    },
    {
      "cell_type": "markdown",
      "metadata": {},
      "source": [
        ">we can see that there is a negative relationship between both total charges and tenure and churn (largely because these are likely to be colinear) and a positive relationship between monthly charges and churn. This does not guarantee linearity (since the reg argurment to pairplot only plots a linear regression line) but it is a good start. Because this data is representative of a real world scenario, we can assume that there will be non-linear trends and we will need to use a more complex model to capture these trends."
      ]
    },
    {
      "cell_type": "code",
      "execution_count": 32,
      "metadata": {},
      "outputs": [],
      "source": [
        "from sklearn.model_selection import train_test_split\n",
        "from sklearn.preprocessing import StandardScaler\n",
        "from sklearn.linear_model import Lasso\n",
        "from sklearn.linear_model import LinearRegression, LogisticRegression\n",
        "from sklearn.metrics import (\n",
        "    log_loss,\n",
        "    accuracy_score,\n",
        "    confusion_matrix,\n",
        "    classification_report,\n",
        "    mean_squared_error,\n",
        ")\n",
        "\n",
        "from pygam import LogisticGAM, s, f\n",
        "import statsmodels.api as sm\n",
        "from statsmodels.stats.outliers_influence import variance_inflation_factor"
      ]
    },
    {
      "cell_type": "markdown",
      "metadata": {},
      "source": [
        "### Train Test Split"
      ]
    },
    {
      "cell_type": "markdown",
      "metadata": {},
      "source": [
        ">We get an error later on when training that there are NaN values. We will check for those here and determine how to proceed."
      ]
    },
    {
      "cell_type": "code",
      "execution_count": 9,
      "metadata": {},
      "outputs": [
        {
          "data": {
            "text/plain": [
              "customerID           0\n",
              "gender               0\n",
              "SeniorCitizen        0\n",
              "Partner              0\n",
              "Dependents           0\n",
              "tenure               0\n",
              "PhoneService         0\n",
              "MultipleLines        0\n",
              "InternetService      0\n",
              "OnlineSecurity       0\n",
              "OnlineBackup         0\n",
              "DeviceProtection     0\n",
              "TechSupport          0\n",
              "StreamingTV          0\n",
              "StreamingMovies      0\n",
              "Contract             0\n",
              "PaperlessBilling     0\n",
              "PaymentMethod        0\n",
              "MonthlyCharges       0\n",
              "TotalCharges        11\n",
              "Churn                0\n",
              "dtype: int64"
            ]
          },
          "execution_count": 9,
          "metadata": {},
          "output_type": "execute_result"
        }
      ],
      "source": [
        "data.isna().sum()"
      ]
    },
    {
      "cell_type": "markdown",
      "metadata": {},
      "source": [
        ">We can see that there are 11 NaN values in the total charges column. We will drop these rows and then proceed with the train test split since 11 out of 7043 is a small percentage of the data."
      ]
    },
    {
      "cell_type": "code",
      "execution_count": 10,
      "metadata": {},
      "outputs": [],
      "source": [
        "data.dropna(inplace=True)"
      ]
    },
    {
      "cell_type": "code",
      "execution_count": 11,
      "metadata": {},
      "outputs": [],
      "source": [
        "y = data[\"Churn\"]\n",
        "X = data.drop(columns=[\"Churn\", \"customerID\"])\n",
        "X = pd.get_dummies(X, drop_first=True)"
      ]
    },
    {
      "cell_type": "code",
      "execution_count": 30,
      "metadata": {},
      "outputs": [
        {
          "data": {
            "text/plain": [
              "Churn\n",
              "0    5163\n",
              "1    1869\n",
              "Name: count, dtype: int64"
            ]
          },
          "execution_count": 30,
          "metadata": {},
          "output_type": "execute_result"
        }
      ],
      "source": [
        "y.value_counts()"
      ]
    },
    {
      "cell_type": "markdown",
      "metadata": {},
      "source": [
        ">Of particular note here is the class imbalance in our target. This may make predicting churn difficult."
      ]
    },
    {
      "cell_type": "code",
      "execution_count": 12,
      "metadata": {},
      "outputs": [],
      "source": [
        "# we will use a 20% split for the test set\n",
        "X_train, X_test, y_train, y_test = train_test_split(\n",
        "    X, y, test_size=0.2, random_state=42\n",
        ")"
      ]
    },
    {
      "cell_type": "markdown",
      "metadata": {},
      "source": [
        "### Scale features\n",
        "\n",
        "Transform each feature so that it has a mean of 0 and a standard deviation of 1. This is going to allow us to compare coeffients directly and also should help with the convergence of our models."
      ]
    },
    {
      "cell_type": "code",
      "execution_count": 13,
      "metadata": {},
      "outputs": [],
      "source": [
        "scaler = StandardScaler()\n",
        "X_train_scaled = scaler.fit_transform(X_train)\n",
        "X_test_scaled = scaler.transform(X_test)\n",
        "X_train_scaled_df = pd.DataFrame(X_train_scaled, columns=X.columns, index=X_train.index)\n",
        "X_test_scaled_df = pd.DataFrame(X_test_scaled, columns=X.columns, index=X_test.index)"
      ]
    },
    {
      "cell_type": "markdown",
      "metadata": {},
      "source": [
        "Baseline Linear Model"
      ]
    },
    {
      "cell_type": "code",
      "execution_count": 14,
      "metadata": {},
      "outputs": [
        {
          "name": "stdout",
          "output_type": "stream",
          "text": [
            "Linear Regression MSE: 0.14593552097785373\n",
            "Linear Regression Accuracy: 0.7917555081734187\n"
          ]
        }
      ],
      "source": [
        "# Linear Model\n",
        "linear_model = LinearRegression()\n",
        "linear_model.fit(X_train_scaled, y_train)\n",
        "y_pred_linear = linear_model.predict(X_test_scaled)\n",
        "mse_linear = mean_squared_error(y_test, y_pred_linear)\n",
        "print(f\"Linear Regression MSE: {mse_linear}\")\n",
        "\n",
        "y_pred_linear_binary = (y_pred_linear > 0.5).astype(int)\n",
        "accuracy_linear = accuracy_score(y_test, y_pred_linear_binary)\n",
        "print(f\"Linear Regression Accuracy: {accuracy_linear}\")"
      ]
    },
    {
      "cell_type": "markdown",
      "metadata": {},
      "source": [
        "Difficult to extract the coeffient values so we will use statsmodels for its valuable summary options and ensure we get the same MSE as a validation step"
      ]
    },
    {
      "cell_type": "code",
      "execution_count": 15,
      "metadata": {},
      "outputs": [
        {
          "name": "stdout",
          "output_type": "stream",
          "text": [
            "                            OLS Regression Results                            \n",
            "==============================================================================\n",
            "Dep. Variable:                  Churn   R-squared:                       0.291\n",
            "Model:                            OLS   Adj. R-squared:                  0.288\n",
            "Method:                 Least Squares   F-statistic:                     100.1\n",
            "Date:                Tue, 17 Sep 2024   Prob (F-statistic):               0.00\n",
            "Time:                        16:56:24   Log-Likelihood:                -2417.5\n",
            "No. Observations:                5625   AIC:                             4883.\n",
            "Df Residuals:                    5601   BIC:                             5042.\n",
            "Df Model:                          23                                         \n",
            "Covariance Type:            nonrobust                                         \n",
            "=========================================================================================================\n",
            "                                            coef    std err          t      P>|t|      [0.025      0.975]\n",
            "---------------------------------------------------------------------------------------------------------\n",
            "tenure                                   -0.0463      0.014     -3.411      0.001      -0.073      -0.020\n",
            "MonthlyCharges                           -0.1109      0.147     -0.754      0.451      -0.399       0.177\n",
            "TotalCharges                             -0.1030      0.016     -6.346      0.000      -0.135      -0.071\n",
            "gender_Male                              -0.0018      0.005     -0.371      0.711      -0.012       0.008\n",
            "SeniorCitizen_1                           0.0201      0.005      3.761      0.000       0.010       0.031\n",
            "Partner_Yes                               0.0035      0.006      0.584      0.559      -0.008       0.015\n",
            "Dependents_Yes                           -0.0130      0.006     -2.227      0.026      -0.024      -0.002\n",
            "PhoneService_Yes                          0.0063      0.015      0.429      0.668      -0.023       0.035\n",
            "MultipleLines_No phone service           -0.0063      0.015     -0.429      0.668      -0.035       0.023\n",
            "MultipleLines_Yes                         0.0338      0.013      2.514      0.012       0.007       0.060\n",
            "InternetService_Fiber optic               0.1358      0.061      2.236      0.025       0.017       0.255\n",
            "InternetService_No                       -0.0138      0.007     -1.891      0.059      -0.028       0.001\n",
            "OnlineSecurity_No internet service       -0.0138      0.007     -1.891      0.059      -0.028       0.001\n",
            "OnlineSecurity_Yes                       -0.0168      0.013     -1.341      0.180      -0.041       0.008\n",
            "OnlineBackup_No internet service         -0.0138      0.007     -1.891      0.059      -0.028       0.001\n",
            "OnlineBackup_Yes                          0.0036      0.013      0.276      0.782      -0.022       0.029\n",
            "DeviceProtection_No internet service     -0.0138      0.007     -1.891      0.059      -0.028       0.001\n",
            "DeviceProtection_Yes                      0.0102      0.013      0.783      0.433      -0.015       0.036\n",
            "TechSupport_No internet service          -0.0138      0.007     -1.891      0.059      -0.028       0.001\n",
            "TechSupport_Yes                          -0.0172      0.013     -1.360      0.174      -0.042       0.008\n",
            "StreamingTV_No internet service          -0.0138      0.007     -1.891      0.059      -0.028       0.001\n",
            "StreamingTV_Yes                           0.0449      0.024      1.836      0.066      -0.003       0.093\n",
            "StreamingMovies_No internet service      -0.0138      0.007     -1.891      0.059      -0.028       0.001\n",
            "StreamingMovies_Yes                       0.0465      0.025      1.897      0.058      -0.002       0.095\n",
            "Contract_One year                        -0.0477      0.006     -7.478      0.000      -0.060      -0.035\n",
            "Contract_Two year                        -0.0318      0.008     -3.917      0.000      -0.048      -0.016\n",
            "PaperlessBilling_Yes                      0.0177      0.005      3.236      0.001       0.007       0.028\n",
            "PaymentMethod_Credit card (automatic)    -0.0039      0.006     -0.628      0.530      -0.016       0.008\n",
            "PaymentMethod_Electronic check            0.0295      0.007      4.213      0.000       0.016       0.043\n",
            "PaymentMethod_Mailed check               -0.0027      0.007     -0.393      0.694      -0.016       0.011\n",
            "const                                     0.2658      0.005     53.486      0.000       0.256       0.276\n",
            "==============================================================================\n",
            "Omnibus:                      266.601   Durbin-Watson:                   1.997\n",
            "Prob(Omnibus):                  0.000   Jarque-Bera (JB):              289.252\n",
            "Skew:                           0.535   Prob(JB):                     1.55e-63\n",
            "Kurtosis:                       2.699   Cond. No.                     1.55e+16\n",
            "==============================================================================\n",
            "\n",
            "Notes:\n",
            "[1] Standard Errors assume that the covariance matrix of the errors is correctly specified.\n",
            "[2] The smallest eigenvalue is 2.34e-28. This might indicate that there are\n",
            "strong multicollinearity problems or that the design matrix is singular.\n",
            "Statsmodels MSE: 0.14593552097785373\n",
            "Statsmodels Accuracy: 0.7917555081734187\n"
          ]
        }
      ],
      "source": [
        "# Statsmodels example\n",
        "sm_X_train = X_train_scaled_df.copy()\n",
        "sm_X_train[\"const\"] = 1\n",
        "sm_X_test = X_test_scaled_df.copy()\n",
        "sm_X_test[\"const\"] = 1\n",
        "\n",
        "\n",
        "sm_model = sm.OLS(y_train, sm_X_train).fit()\n",
        "print(sm_model.summary())\n",
        "y_pred_sm = sm_model.predict(sm_X_test)\n",
        "mse_sm = mean_squared_error(y_test, y_pred_sm)\n",
        "print(f\"Statsmodels MSE: {mse_sm}\")\n",
        "\n",
        "y_pred_sm_binary = y_pred_sm > 0.5\n",
        "accuracy_sm = accuracy_score(y_test, y_pred_sm_binary)\n",
        "print(f\"Statsmodels Accuracy: {accuracy_sm}\")"
      ]
    },
    {
      "cell_type": "markdown",
      "metadata": {},
      "source": [
        "We can see that we get the same MSE for the sklearn and statsmodels implementation. We utilized the statsmodels implementation to be able to get summary output what lets us see coefficient estimates.We can see in this linear regression output that negative coefficients correspond to a decreased churn likelihood when compared to the reference level in that category or per unit increase for numerical. Positive coefficients correspond to an increased churn likelihood when compared to the reference level in that category or per unit increase for numerical.\n",
        "\n",
        "Numeric Example:\n",
        "\n",
        "Tenure:\n",
        "- A one unit increase in tenure is associated with a -0.0463 decrease in the expected churn value (since we are viewing churn as a continuous variable)\n",
        "- This trend is indicated as statistically significant by the p-value of 0.001 (but we don't p-hack or hunt for significant results so we wont focus on p-value)\n",
        "\n",
        "SeniorCitizen_1:\n",
        "- Being a senior citizen is associated with a 0.0242 increase in the expected churn value (since we are viewing churn as a continuous variable)\n",
        "- SeniorCitizen_1 or other variables that have '_No' or other suffixes are to delineate that categorical variable from its reference level. This means all coefficients should be interpreted in comparison to the category not listed (in this instance, not being a senior citizen)"
      ]
    },
    {
      "cell_type": "markdown",
      "metadata": {},
      "source": [
        "### Verifying Homoscadasticity and Normality"
      ]
    },
    {
      "cell_type": "code",
      "execution_count": 16,
      "metadata": {},
      "outputs": [
        {
          "data": {
            "image/png": "[encoded data removed]",
            "text/plain": [
              "<Figure size 640x480 with 1 Axes>"
            ]
          },
          "metadata": {},
          "output_type": "display_data"
        }
      ],
      "source": [
        "residuals = sm_model.resid\n",
        "fitted = sm_model.fittedvalues\n",
        "\n",
        "sns.residplot(x=fitted, y=residuals)\n",
        "plt.xlabel(\"Fitted values\")\n",
        "plt.ylabel(\"Residuals\")\n",
        "plt.title(\"Residuals vs Fitted\")\n",
        "plt.show()"
      ]
    },
    {
      "cell_type": "code",
      "execution_count": 17,
      "metadata": {},
      "outputs": [
        {
          "data": {
            "image/png": "[encoded data removed]",
            "text/plain": [
              "<Figure size 640x480 with 1 Axes>"
            ]
          },
          "metadata": {},
          "output_type": "display_data"
        }
      ],
      "source": [
        "sm.qqplot(residuals, line=\"45\")\n",
        "\n",
        "plt.title(\"QQ Plot of Residuals\")\n",
        "plt.show()"
      ]
    },
    {
      "cell_type": "markdown",
      "metadata": {},
      "source": [
        "We can see that in our residuals vs fitted plot that the expectations for homoscedasticity are not met. We expect to see no identifiable pattern here. We see two defined lines which are indicative of our binary output variable that we are artificially treating as a continuous variable. The fact that there is a line instead of randomly distributed points indicates a non-linear relationship between our features and the target. The QQ plot also indicates that our residuals are not normally distributed. Ultimately we can see that many of the assumptions for linear regression are not met by this data and a more complicated model is necessary. We will first try a LASSO regression to see if we can reduce the features sufficiently to improve our adherence to the assumptions."
      ]
    },
    {
      "cell_type": "code",
      "execution_count": 18,
      "metadata": {},
      "outputs": [
        {
          "name": "stdout",
          "output_type": "stream",
          "text": [
            "Lasso MSE: 0.14574994481719242\n",
            "Lasso Accuracy: 0.7931769722814499\n"
          ]
        }
      ],
      "source": [
        "# LASSO to check for feature importance\n",
        "lasso = Lasso(\n",
        "    alpha=0.01\n",
        ")  # alpha is the regularization parameter which will determine the strength of the 'shrinkage' for variables\n",
        "lasso.fit(X_train_scaled, y_train)\n",
        "y_pred_lasso = lasso.predict(X_test_scaled)\n",
        "mse_lasso = mean_squared_error(y_test, y_pred_lasso)\n",
        "print(f\"Lasso MSE: {mse_lasso}\")\n",
        "\n",
        "y_pred_lasso_binary = [1 if i > 0.5 else 0 for i in y_pred_lasso]\n",
        "print(f\"Lasso Accuracy: {accuracy_score(y_test, y_pred_lasso_binary)}\")"
      ]
    },
    {
      "cell_type": "code",
      "execution_count": 19,
      "metadata": {},
      "outputs": [
        {
          "name": "stdout",
          "output_type": "stream",
          "text": [
            "                                           coefs     abs_coefs\n",
            "InternetService_Fiber optic         8.082324e-02  8.082324e-02\n",
            "tenure                             -7.733446e-02  7.733446e-02\n",
            "TotalCharges                       -4.627850e-02  4.627850e-02\n",
            "InternetService_No                 -4.464386e-02  4.464386e-02\n",
            "Contract_One year                  -3.957803e-02  3.957803e-02\n",
            "PaymentMethod_Electronic check      3.544789e-02  3.544789e-02\n",
            "Contract_Two year                  -2.458954e-02  2.458954e-02\n",
            "OnlineSecurity_Yes                 -2.220928e-02  2.220928e-02\n",
            "TechSupport_Yes                    -2.108204e-02  2.108204e-02\n",
            "SeniorCitizen_1                     1.681101e-02  1.681101e-02\n",
            "StreamingMovies_Yes                 1.503369e-02  1.503369e-02\n",
            "PaperlessBilling_Yes                1.497957e-02  1.497957e-02\n",
            "StreamingTV_Yes                     1.237892e-02  1.237892e-02\n",
            "MultipleLines_Yes                   8.026995e-03  8.026995e-03\n",
            "Dependents_Yes                     -7.234482e-03  7.234482e-03\n",
            "StreamingTV_No internet service    -4.463296e-03  4.463296e-03\n",
            "OnlineSecurity_No internet service -1.768462e-16  1.768462e-16\n"
          ]
        }
      ],
      "source": [
        "# Here we are going to extract the LASSO coefficients like we did above with sm.summary()\n",
        "lasso_coefs = pd.DataFrame(\n",
        "    lasso.coef_, index=X.columns, columns=[\"coefs\"]\n",
        ")  # make a coefficient df\n",
        "lasso_coefs[\"abs_coefs\"] = abs(\n",
        "    lasso_coefs[\"coefs\"]\n",
        ")  # add the absolute value for sorting purposses\n",
        "lasso_coefs = lasso_coefs[\n",
        "    lasso_coefs[\"abs_coefs\"] > 0\n",
        "]  # only keep the non-zero coefficients\n",
        "lasso_coefs = lasso_coefs.sort_values(\n",
        "    by=\"abs_coefs\", ascending=False\n",
        ")  # sort the coefficients\n",
        "print(lasso_coefs)"
      ]
    },
    {
      "cell_type": "code",
      "execution_count": 20,
      "metadata": {},
      "outputs": [
        {
          "data": {
            "image/png": "[encoded data removed]",
            "text/plain": [
              "<Figure size 640x480 with 1 Axes>"
            ]
          },
          "metadata": {},
          "output_type": "display_data"
        }
      ],
      "source": [
        "fitted = lasso.predict(X_test_scaled)\n",
        "residuals = y_test - fitted\n",
        "\n",
        "plt.scatter(fitted, residuals)\n",
        "plt.axhline(y=0, color=\"red\", label=\"0\")\n",
        "plt.xlabel(\"Fitted values\")\n",
        "plt.ylabel(\"Residuals\")\n",
        "plt.title(\"Residuals vs Fitted\")\n",
        "plt.show()"
      ]
    },
    {
      "cell_type": "code",
      "execution_count": 21,
      "metadata": {},
      "outputs": [
        {
          "data": {
            "text/plain": [
              "<Figure size 1000x600 with 0 Axes>"
            ]
          },
          "metadata": {},
          "output_type": "display_data"
        },
        {
          "data": {
            "image/png": "[encoded data removed]",
            "text/plain": [
              "<Figure size 640x480 with 1 Axes>"
            ]
          },
          "metadata": {},
          "output_type": "display_data"
        }
      ],
      "source": [
        "plt.figure(figsize=(10, 6))\n",
        "sm.qqplot(residuals, line=\"45\")\n",
        "plt.title(\"Q-Q Plot of Residuals\")\n",
        "plt.show()"
      ]
    },
    {
      "cell_type": "markdown",
      "metadata": {},
      "source": [
        "We can see in the LASSO output that we achieved an MSE reduction of 0.0002 (which is not a large value but it is a reduction). More importantly, we reduced the number of relevant variables significantly. The table above shows them ranked by feature importance according to the LASSO model. We also see that the residuals vs fitted plot and QQ plot are still not ideal but they are improved. We will now try a more complex model to see if we can improve our adherence to the assumptions of linear regression."
      ]
    },
    {
      "cell_type": "markdown",
      "metadata": {},
      "source": [
        ">for simplicity, we will keep these features when we move to Logistic Regression and GAMS"
      ]
    },
    {
      "cell_type": "markdown",
      "metadata": {},
      "source": [
        "## Logistic Regression Modeling"
      ]
    },
    {
      "cell_type": "code",
      "execution_count": 22,
      "metadata": {},
      "outputs": [],
      "source": [
        "# reduced X with only the important features\n",
        "X_train_reduced = X_train_scaled_df[lasso_coefs.index]\n",
        "X_test_reduced = X_test_scaled_df[lasso_coefs.index]"
      ]
    },
    {
      "cell_type": "markdown",
      "metadata": {},
      "source": [
        "> We get errors indicating high multicollinearity when we fit a logistic regression to this data. We can look at the variance inflation factors to see which variables are causing this issue."
      ]
    },
    {
      "cell_type": "code",
      "execution_count": 23,
      "metadata": {},
      "outputs": [
        {
          "name": "stdout",
          "output_type": "stream",
          "text": [
            "                               feature       VIF\n",
            "0          InternetService_Fiber optic  2.185123\n",
            "1                               tenure  6.631677\n",
            "2                         TotalCharges  9.054902\n",
            "3                   InternetService_No       inf\n",
            "4                    Contract_One year  1.632796\n",
            "5       PaymentMethod_Electronic check  1.295006\n",
            "6                    Contract_Two year  2.643673\n",
            "7                   OnlineSecurity_Yes  1.478102\n",
            "8                      TechSupport_Yes  1.542840\n",
            "9                      SeniorCitizen_1  1.136133\n",
            "10                 StreamingMovies_Yes  1.689895\n",
            "11                PaperlessBilling_Yes  1.202549\n",
            "12                     StreamingTV_Yes  1.698069\n",
            "13                   MultipleLines_Yes  1.381422\n",
            "14                      Dependents_Yes  1.114476\n",
            "15     StreamingTV_No internet service       inf\n",
            "16  OnlineSecurity_No internet service       inf\n"
          ]
        }
      ],
      "source": [
        "vif_data = pd.DataFrame()\n",
        "vif_data[\"feature\"] = X_train_reduced.columns\n",
        "vif_data[\"VIF\"] = [\n",
        "    variance_inflation_factor(X_train_reduced.values, i)\n",
        "    for i in range(X_train_reduced.shape[1])\n",
        "]\n",
        "\n",
        "print(vif_data)"
      ]
    },
    {
      "cell_type": "markdown",
      "metadata": {},
      "source": [
        "Here we can see that specific categories from our dummies are highly collinear with others. We will drop the inf VIF columns and then refit the model."
      ]
    },
    {
      "cell_type": "code",
      "execution_count": 24,
      "metadata": {},
      "outputs": [],
      "source": [
        "X_train_reduced.drop(\n",
        "    columns=[\n",
        "        \"InternetService_No\",\n",
        "        \"StreamingTV_No internet service\",\n",
        "        \"OnlineSecurity_No internet service\",\n",
        "    ],\n",
        "    inplace=True,\n",
        ")\n",
        "X_test_reduced.drop(\n",
        "    columns=[\n",
        "        \"InternetService_No\",\n",
        "        \"StreamingTV_No internet service\",\n",
        "        \"OnlineSecurity_No internet service\",\n",
        "    ],\n",
        "    inplace=True,\n",
        ")"
      ]
    },
    {
      "cell_type": "code",
      "execution_count": 25,
      "metadata": {},
      "outputs": [],
      "source": [
        "# Convert y to binary\n",
        "y_train_binary = y_train.astype(\"bool\")\n",
        "y_test_binary = y_test.astype(\"bool\")"
      ]
    },
    {
      "cell_type": "code",
      "execution_count": 33,
      "metadata": {},
      "outputs": [
        {
          "name": "stdout",
          "output_type": "stream",
          "text": [
            "Optimization terminated successfully.\n",
            "         Current function value: 0.415962\n",
            "         Iterations 8\n",
            "                           Logit Regression Results                           \n",
            "==============================================================================\n",
            "Dep. Variable:                  Churn   No. Observations:                 5625\n",
            "Model:                          Logit   Df Residuals:                     5610\n",
            "Method:                           MLE   Df Model:                           14\n",
            "Date:                Tue, 17 Sep 2024   Pseudo R-squ.:                  0.2816\n",
            "Time:                        17:13:13   Log-Likelihood:                -2339.8\n",
            "converged:                       True   LL-Null:                       -3257.0\n",
            "Covariance Type:            nonrobust   LLR p-value:                     0.000\n",
            "==================================================================================================\n",
            "                                     coef    std err          z      P>|z|      [0.025      0.975]\n",
            "--------------------------------------------------------------------------------------------------\n",
            "InternetService_Fiber optic        0.4051      0.049      8.322      0.000       0.310       0.500\n",
            "tenure                            -1.3107      0.159     -8.264      0.000      -1.622      -1.000\n",
            "TotalCharges                       0.5459      0.165      3.318      0.001       0.223       0.868\n",
            "Contract_One year                 -0.3577      0.049     -7.274      0.000      -0.454      -0.261\n",
            "PaymentMethod_Electronic check     0.1905      0.036      5.237      0.000       0.119       0.262\n",
            "Contract_Two year                 -0.6388      0.082     -7.819      0.000      -0.799      -0.479\n",
            "OnlineSecurity_Yes                -0.1539      0.043     -3.582      0.000      -0.238      -0.070\n",
            "TechSupport_Yes                   -0.1482      0.044     -3.387      0.001      -0.234      -0.062\n",
            "SeniorCitizen_1                    0.1152      0.035      3.322      0.001       0.047       0.183\n",
            "StreamingMovies_Yes                0.1700      0.044      3.833      0.000       0.083       0.257\n",
            "PaperlessBilling_Yes               0.1682      0.040      4.174      0.000       0.089       0.247\n",
            "StreamingTV_Yes                    0.1550      0.045      3.480      0.001       0.068       0.242\n",
            "MultipleLines_Yes                  0.0810      0.043      1.879      0.060      -0.003       0.165\n",
            "Dependents_Yes                    -0.1031      0.042     -2.469      0.014      -0.185      -0.021\n",
            "const                             -1.6887      0.059    -28.799      0.000      -1.804      -1.574\n",
            "==================================================================================================\n",
            "Logistic Log_Loss: 7.50589228359014\n",
            "Logistic Accuracy: 0.7917555081734187\n"
          ]
        }
      ],
      "source": [
        "# Add constant to X_train_reduced and X_test_reduced\n",
        "sm_X_train_reduced = X_train_reduced.copy()\n",
        "sm_X_train_reduced[\"const\"] = 1\n",
        "sm_X_test_reduced = X_test_reduced.copy()\n",
        "sm_X_test_reduced[\"const\"] = 1\n",
        "\n",
        "logistic_regression = sm.Logit(y_train_binary, sm_X_train_reduced).fit()\n",
        "print(logistic_regression.summary())\n",
        "\n",
        "y_pred_logistic = logistic_regression.predict(sm_X_test_reduced)\n",
        "y_pred_logistic = y_pred_logistic > 0.5\n",
        "log_loss_logistic = log_loss(y_test_binary, y_pred_logistic)\n",
        "print(f\"Logistic Log_Loss: {log_loss_logistic}\")\n",
        "accuracy_logistic = accuracy_score(y_test_binary, y_pred_logistic)\n",
        "print(f\"Logistic Accuracy: {accuracy_logistic}\")"
      ]
    },
    {
      "cell_type": "markdown",
      "metadata": {},
      "source": [
        "Here we see the same accuracy as our original model but with fewer features. The interpretability of these coefficients suffers significantly however. As an example we see the tenure coefficient is -1.31 which indicates that a one unit increase in tenure is associated with a 0.27 decrease in the log odds of churn. This is a very difficult coefficient to interpret and we will move to a GAM model to help with this."
      ]
    },
    {
      "cell_type": "code",
      "execution_count": 35,
      "metadata": {},
      "outputs": [
        {
          "name": "stdout",
          "output_type": "stream",
          "text": [
            "Logistic Log_Loss: 7.531509663397613\n",
            "Logistic Accuracy: 0.7910447761194029\n"
          ]
        }
      ],
      "source": [
        "# sklearn logistic regression just to check against statsmodels\n",
        "logistic_regression_sklearn = LogisticRegression()\n",
        "logistic_regression_sklearn.fit(X_train_reduced, y_train_binary)\n",
        "y_pred_logistic_sklearn = logistic_regression_sklearn.predict(X_test_reduced)\n",
        "\n",
        "log_loss_logistic_sklearn = log_loss(y_test_binary, y_pred_logistic_sklearn)\n",
        "print(f\"Logistic Log_Loss: {log_loss_logistic_sklearn}\")\n",
        "accuracy_logistic_sklearn = accuracy_score(y_test_binary, y_pred_logistic_sklearn)\n",
        "print(f\"Logistic Accuracy: {accuracy_logistic_sklearn}\")"
      ]
    },
    {
      "cell_type": "markdown",
      "metadata": {},
      "source": [
        "We see that our statsmodels method does not agree with out sklearn method. The sklearn method appears to be more accurate since the statsmodels method matches the original model identically. We will come back to look at this interesting behavior later."
      ]
    },
    {
      "cell_type": "markdown",
      "metadata": {},
      "source": [
        "## GAM Modeling"
      ]
    },
    {
      "cell_type": "code",
      "execution_count": 41,
      "metadata": {},
      "outputs": [
        {
          "data": {
            "text/plain": [
              "Index(['InternetService_Fiber optic', 'tenure', 'TotalCharges',\n",
              "       'Contract_One year', 'PaymentMethod_Electronic check',\n",
              "       'Contract_Two year', 'OnlineSecurity_Yes', 'TechSupport_Yes',\n",
              "       'SeniorCitizen_1', 'StreamingMovies_Yes', 'PaperlessBilling_Yes',\n",
              "       'StreamingTV_Yes', 'MultipleLines_Yes', 'Dependents_Yes'],\n",
              "      dtype='object')"
            ]
          },
          "execution_count": 41,
          "metadata": {},
          "output_type": "execute_result"
        }
      ],
      "source": [
        "X_train_reduced.columns"
      ]
    },
    {
      "cell_type": "code",
      "execution_count": 44,
      "metadata": {},
      "outputs": [
        {
          "name": "stdout",
          "output_type": "stream",
          "text": [
            "LogisticGAM                                                                                               \n",
            "=============================================== ==========================================================\n",
            "Distribution:                      BinomialDist Effective DoF:                                     36.5873\n",
            "Link Function:                        LogitLink Log Likelihood:                                 -2277.1811\n",
            "Number of Samples:                         5625 AIC:                                             4627.5369\n",
            "                                                AICc:                                            4628.0561\n",
            "                                                UBRE:                                               2.8279\n",
            "                                                Scale:                                                 1.0\n",
            "                                                Pseudo R-Squared:                                   0.3008\n",
            "==========================================================================================================\n",
            "Feature Function                  Lambda               Rank         EDoF         P > x        Sig. Code   \n",
            "================================= ==================== ============ ============ ============ ============\n",
            "f(0)                              [0.6]                2            2.0          1.20e-11     ***         \n",
            "s(1)                              [0.6]                20           12.6         7.68e-10     ***         \n",
            "s(2)                              [0.6]                20           11.2         2.82e-03     **          \n",
            "f(3)                              [0.6]                2            1.0          1.24e-12     ***         \n",
            "f(4)                              [0.6]                2            1.0          1.63e-05     ***         \n",
            "f(5)                              [0.6]                2            1.0          2.03e-14     ***         \n",
            "f(6)                              [0.6]                2            1.0          7.82e-03     **          \n",
            "f(7)                              [0.6]                2            1.0          2.90e-02     *           \n",
            "f(8)                              [0.6]                2            1.0          1.06e-03     **          \n",
            "f(9)                              [0.6]                2            1.0          1.31e-04     ***         \n",
            "f(10)                             [0.6]                2            1.0          1.16e-04     ***         \n",
            "f(11)                             [0.6]                2            1.0          2.20e-04     ***         \n",
            "f(12)                             [0.6]                2            1.0          1.73e-02     *           \n",
            "f(13)                             [0.6]                2            1.0          1.75e-01                 \n",
            "intercept                                              1            0.0          0.00e+00     ***         \n",
            "==========================================================================================================\n",
            "Significance codes:  0 '***' 0.001 '**' 0.01 '*' 0.05 '.' 0.1 ' ' 1\n",
            "\n",
            "WARNING: Fitting splines and a linear function to a feature introduces a model identifiability problem\n",
            "         which can cause p-values to appear significant when they are not.\n",
            "\n",
            "WARNING: p-values calculated in this manner behave correctly for un-penalized models or models with\n",
            "         known smoothing parameters, but when smoothing parameters have been estimated, the p-values\n",
            "         are typically lower than they should be, meaning that the tests reject the null too readily.\n"
          ]
        }
      ],
      "source": [
        "gam = LogisticGAM(\n",
        "    f(0)  # Factor term for 'InternetService_Fiber optic'\n",
        "    + s(1)  # Smooth term for 'tenure'\n",
        "    + s(2)  # Smooth term for 'TotalCharges'\n",
        "    + f(3)  # Factor term for 'Contract_One year'\n",
        "    + f(4)  # Factor term for 'PaymentMethod_Electronic check'\n",
        "    + f(5)  # Factor term for 'Contract_Two year'\n",
        "    + f(6)  # Factor term for 'OnlineSecurity_Yes'\n",
        "    + f(7)  # Factor term for 'TechSupport_Yes'\n",
        "    + f(8)  # Factor term for 'SeniorCitizen_1'\n",
        "    + f(9)  # Factor term for 'StreamingMovies_Yes'\n",
        "    + f(10)  # Factor term for 'PaperlessBilling_Yes'\n",
        "    + f(11)  # Factor term for 'StreamingTV_Yes'\n",
        "    + f(12)  # Factor term for 'MultipleLines_Yes'\n",
        "    + f(13)  # Factor term for 'Dependents_Yes'\n",
        ")\n",
        "gam.fit(X_train_reduced, y_train_binary)\n",
        "gam.summary()"
      ]
    },
    {
      "cell_type": "code",
      "execution_count": 45,
      "metadata": {},
      "outputs": [
        {
          "name": "stdout",
          "output_type": "stream",
          "text": [
            "GAM Accuracy: 0.7967306325515281\n"
          ]
        }
      ],
      "source": [
        "y_pred_gam = gam.predict(X_test_reduced)\n",
        "gam_accuracy = accuracy_score(y_test_binary, y_pred_gam > 0.5)\n",
        "print(f\"GAM Accuracy: {gam_accuracy}\")"
      ]
    },
    {
      "cell_type": "markdown",
      "metadata": {},
      "source": [
        "What we can conclude regarding the GAM model are as follows:\n",
        "\n",
        "- The model outperformed all others, albeit only slightly\n",
        "- The pseudo R squared value indicates that the model only explains about 30% of the variance in the data\n",
        "- This leads us to conclude that churn is very difficult to accurately predict (particularly with the given features)\n",
        "- The GAM outputs a feature importance indicator as well as degrees of freedom indicator that helps us to see how complex the relationships the feature is capturing as well as how important a given feature is in the final prediction. This makes the GAM model user friendly and interpretable particularly when compared to the logistic regression model."
      ]
    },
    {
      "cell_type": "markdown",
      "metadata": {},
      "source": [
        "I believe the telecomunications company should use GAMs because they provide the best performance while also making it quite clear which variables are most important for the models prediction. This is important because it shows the company where to apply resources. I will caveat this recommendation by saying that the real take away from this analysis is that there are clearly features influencing churn that the company does not collect yet and so, to get a really accurate model, they may want to do more research into viable factors influencing churn."
      ]
    }
  ],
  "metadata": {
    "colab": {
      "authorship_tag": "ABX9TyMtV5fyDFKkcyrfpW8mVgVH",
      "include_colab_link": true,
      "provenance": []
    },
    "kernelspec": {
      "display_name": "Python 3",
      "name": "python3"
    },
    "language_info": {
      "codemirror_mode": {
        "name": "ipython",
        "version": 3
      },
      "file_extension": ".py",
      "mimetype": "text/x-python",
      "name": "python",
      "nbconvert_exporter": "python",
      "pygments_lexer": "ipython3",
      "version": "3.11.5"
    }
  },
  "nbformat": 4,
  "nbformat_minor": 0
}
